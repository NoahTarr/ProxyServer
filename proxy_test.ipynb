{
 "cells": [
  {
   "cell_type": "code",
   "execution_count": 25,
   "metadata": {
    "collapsed": true
   },
   "outputs": [
    {
     "name": "stdout",
     "output_type": "stream",
     "text": [
      "<Response [200]>\n",
      "text/html\n",
      "<Response [200]>\n",
      "text/html\n",
      "<Response [200]>\n",
      "text/html\n",
      "<Response [200]>\n",
      "text/html\n",
      "<Response [200]>\n",
      "text/html\n",
      "<Response [200]>\n",
      "text/html\n"
     ]
    }
   ],
   "source": [
    "import requests\n",
    "from socket import *\n",
    "\n",
    "proxys = {\n",
    "    'http': 'http://localhost:8080',\n",
    "    'https': 'http://localhost:8080',\n",
    "    # 'http': 'http://' + gethostname() + ':8080',\n",
    "    # 'https': 'http://' + gethostname() + ':8080',\n",
    "}\n",
    "\n",
    "files = [\n",
    "    'http://gaia.cs.umass.edu/wireshark-labs/HTTP-wireshark-file1.html',\n",
    "    'http://gaia.cs.umass.edu/wireshark-labs/HTTP-wireshark-file2.html',\n",
    "    'http://gaia.cs.umass.edu/wireshark-labs/HTTP-wireshark-file3.html',\n",
    "    'http://gaia.cs.umass.edu/wireshark-labs/HTTP-wireshark-file4.html',\n",
    "    'http://gaia.cs.umass.edu/pearson.png',\n",
    "    'http://kurose.cslash.net/8E_cover_small.jpg',\n",
    "]\n",
    "\n",
    "for f in files:\n",
    "    r = requests.get(f, proxies=proxys, allow_redirects=True)\n",
    "    print(r)\n",
    "    if r.status_code == 200:\n",
    "        print(r.headers.get('Content-Type'))\n",
    "\n",
    "        if r.headers.get('Content-Type') == 'text/plain':\n",
    "            print(r.text)"
   ]
  }
 ],
 "metadata": {
  "kernelspec": {
   "display_name": "Python 3",
   "language": "python",
   "name": "python3"
  },
  "language_info": {
   "codemirror_mode": {
    "name": "ipython",
    "version": 2
   },
   "file_extension": ".py",
   "mimetype": "text/x-python",
   "name": "python",
   "nbconvert_exporter": "python",
   "pygments_lexer": "ipython2",
   "version": "2.7.6"
  }
 },
 "nbformat": 4,
 "nbformat_minor": 0
}